{
  "nbformat": 4,
  "nbformat_minor": 0,
  "metadata": {
    "colab": {
      "name": "Capstone_1_official.ipynb",
      "provenance": [],
      "authorship_tag": "ABX9TyO5ccC0vdiomDfZ3/MOnFhF",
      "include_colab_link": true
    },
    "kernelspec": {
      "name": "python3",
      "display_name": "Python 3"
    }
  },
  "cells": [
    {
      "cell_type": "markdown",
      "metadata": {
        "id": "view-in-github",
        "colab_type": "text"
      },
      "source": [
        "<a href=\"https://colab.research.google.com/github/jphil-16/2020_National_Park_Visitation/blob/main/Capstone_1_official.ipynb\" target=\"_parent\"><img src=\"https://colab.research.google.com/assets/colab-badge.svg\" alt=\"Open In Colab\"/></a>"
      ]
    },
    {
      "cell_type": "markdown",
      "metadata": {
        "id": "--z2MKpO2HBH"
      },
      "source": [
        "# **1. Introduction**\n",
        "Has the COVID-19 pandemic caused a significant difference in the visitation rates for national parks in the United States? Some people have suggested that the pandemic has caused many people to flock to our outdoor spaces and public lands as the only source of refuge during lockdowns; others have pointed out that international visitors have been unable to come to the parks due to travel restrictions and many of the parks have remained closed or re-opened with limited access. It is possible that these effects have canceled each other out or been nonexistent in the first place, in either case leading to steady visitation rates.\n",
        "\n",
        "The leaders of the National Park Service need to understand how the public is using these spaces so they can ensure that they are staffing the parks at approriate levels. Especially since the parks are a public commodity and the park rangers are meant to help the guests, it would be very bad for the parks to either be overstaffed or understaffed."
      ]
    },
    {
      "cell_type": "markdown",
      "metadata": {
        "id": "1MnY4Mgm2c5j"
      },
      "source": [
        "# **2. Hypothesis**\n",
        "Ho: There is no significant difference in the United States National Park visitation rates between February, April, and August.\n",
        "\n",
        "Ha: There is a significant difference in the United States National Park visitation rates between February, April, and August.\n"
      ]
    },
    {
      "cell_type": "markdown",
      "metadata": {
        "id": "eP3eCJe42gPu"
      },
      "source": [
        "# **3. Data**\n",
        "The National Parks Service collects data about the number of visitors who come to each park throughout the year. They have provided this data for 2020 broken down by month while providing a comparison to the data from the same month in 2019, along with Year-To-Date data in each case. This research will focus on three particular months from 2020 and how they compare to each other: February, April, and August. These three months represent three distinct periods of time during the year: before COVID-19 shutdowns (February), early/peak shutdowns (April) and summertime phased re-opening (August). By comparing the data from these months to the 2019 data, the results will be able to control for seasonal effects and isolate the effects of the pandemic on National Park visitation.\n",
        "\n",
        "One interesting observation in the data is that a large number of parks have certain months where the number of 2019 visitors is exactly the same as the number of 2020 visitors. Since these parks have tens of thousands of visitors per month, it is very unlinkely that they would have an exact match. One possible explanation is that the 2020 data was unavailable, so the park copied over the 2019 data as an approximation. Even without these data points, the sample size is plenty large enough, so this research simply eliminated those cases from the data sets."
      ]
    },
    {
      "cell_type": "code",
      "metadata": {
        "id": "EISHMoU11uaF",
        "colab": {
          "base_uri": "https://localhost:8080/",
          "height": 445
        },
        "outputId": "82da5748-f76e-4347-ae4b-a0072c45fa5c"
      },
      "source": [
        "# Imports\n",
        "%matplotlib inline\n",
        "import pandas as pd\n",
        "import numpy as np\n",
        "import matplotlib.pyplot as plt\n",
        "from scipy import stats\n",
        "\n",
        "# Load the april dataset\n",
        "data_april = pd.read_csv('https://raw.githubusercontent.com/jphil-16/Thinkful_Projects_JDP/main/NPS_Report_APRIL2020.csv').dropna()\n",
        "\n",
        "# Turn the 'DIFF' column from a string into a number\n",
        "data_april['DIFF'] = (pd.to_numeric(data_april['DIFF'].str.replace(',',''), errors='coerce'))\n",
        "\n",
        "# Remove the rows where the 2020 data exactly matches the 2019 data\n",
        "data_april = data_april[data_april['DIFF'] != 0]\n",
        "\n",
        "# Take a quick look at the resulting dataframe\n",
        "data_april.info()\n",
        "data_april.head()"
      ],
      "execution_count": null,
      "outputs": [
        {
          "output_type": "stream",
          "text": [
            "<class 'pandas.core.frame.DataFrame'>\n",
            "Int64Index: 330 entries, 0 to 371\n",
            "Data columns (total 7 columns):\n",
            " #   Column    Non-Null Count  Dtype \n",
            "---  ------    --------------  ----- \n",
            " 0   Park      330 non-null    object\n",
            " 1   Apr-19    330 non-null    object\n",
            " 2   Apr-20    330 non-null    object\n",
            " 3   DIFF      330 non-null    int64 \n",
            " 4   YTD 2019  330 non-null    object\n",
            " 5   YTD 2020  330 non-null    object\n",
            " 6   DIFF.1    330 non-null    object\n",
            "dtypes: int64(1), object(6)\n",
            "memory usage: 20.6+ KB\n"
          ],
          "name": "stdout"
        },
        {
          "output_type": "execute_result",
          "data": {
            "text/html": [
              "<div>\n",
              "<style scoped>\n",
              "    .dataframe tbody tr th:only-of-type {\n",
              "        vertical-align: middle;\n",
              "    }\n",
              "\n",
              "    .dataframe tbody tr th {\n",
              "        vertical-align: top;\n",
              "    }\n",
              "\n",
              "    .dataframe thead th {\n",
              "        text-align: right;\n",
              "    }\n",
              "</style>\n",
              "<table border=\"1\" class=\"dataframe\">\n",
              "  <thead>\n",
              "    <tr style=\"text-align: right;\">\n",
              "      <th></th>\n",
              "      <th>Park</th>\n",
              "      <th>Apr-19</th>\n",
              "      <th>Apr-20</th>\n",
              "      <th>DIFF</th>\n",
              "      <th>YTD 2019</th>\n",
              "      <th>YTD 2020</th>\n",
              "      <th>DIFF.1</th>\n",
              "    </tr>\n",
              "  </thead>\n",
              "  <tbody>\n",
              "    <tr>\n",
              "      <th>0</th>\n",
              "      <td>Abraham Lincoln Birthplace NHP</td>\n",
              "      <td>16,496</td>\n",
              "      <td>15,092</td>\n",
              "      <td>-1404</td>\n",
              "      <td>39,535</td>\n",
              "      <td>42,021</td>\n",
              "      <td>2,486</td>\n",
              "    </tr>\n",
              "    <tr>\n",
              "      <th>1</th>\n",
              "      <td>Acadia NP</td>\n",
              "      <td>68,046</td>\n",
              "      <td>55,713</td>\n",
              "      <td>-12333</td>\n",
              "      <td>105,893</td>\n",
              "      <td>110,351</td>\n",
              "      <td>4,458</td>\n",
              "    </tr>\n",
              "    <tr>\n",
              "      <th>2</th>\n",
              "      <td>Adams NHP</td>\n",
              "      <td>537</td>\n",
              "      <td>1,127</td>\n",
              "      <td>590</td>\n",
              "      <td>996</td>\n",
              "      <td>2,345</td>\n",
              "      <td>1,349</td>\n",
              "    </tr>\n",
              "    <tr>\n",
              "      <th>3</th>\n",
              "      <td>African Burial Ground NM</td>\n",
              "      <td>5,022</td>\n",
              "      <td>0</td>\n",
              "      <td>-5022</td>\n",
              "      <td>8,084</td>\n",
              "      <td>6,900</td>\n",
              "      <td>-1,184</td>\n",
              "    </tr>\n",
              "    <tr>\n",
              "      <th>4</th>\n",
              "      <td>Agate Fossil Beds NM</td>\n",
              "      <td>391</td>\n",
              "      <td>129</td>\n",
              "      <td>-262</td>\n",
              "      <td>886</td>\n",
              "      <td>606</td>\n",
              "      <td>-280</td>\n",
              "    </tr>\n",
              "  </tbody>\n",
              "</table>\n",
              "</div>"
            ],
            "text/plain": [
              "                             Park  Apr-19  Apr-20  ...  YTD 2019 YTD 2020  DIFF.1\n",
              "0  Abraham Lincoln Birthplace NHP  16,496  15,092  ...    39,535   42,021   2,486\n",
              "1                       Acadia NP  68,046  55,713  ...   105,893  110,351   4,458\n",
              "2                       Adams NHP     537   1,127  ...       996    2,345   1,349\n",
              "3        African Burial Ground NM   5,022       0  ...     8,084    6,900  -1,184\n",
              "4            Agate Fossil Beds NM     391     129  ...       886      606    -280\n",
              "\n",
              "[5 rows x 7 columns]"
            ]
          },
          "metadata": {
            "tags": []
          },
          "execution_count": 2
        }
      ]
    },
    {
      "cell_type": "code",
      "metadata": {
        "id": "yIRGSflhCOYD",
        "colab": {
          "base_uri": "https://localhost:8080/",
          "height": 445
        },
        "outputId": "196d9e50-6e85-4c8b-f63b-b39b37ca27bf"
      },
      "source": [
        "# Load the august dataset and perform data cleanup as above\n",
        "data_august = pd.read_csv('https://raw.githubusercontent.com/jphil-16/Thinkful_Projects_JDP/main/NPS_Report_AUGUST2020.csv').dropna()\n",
        "data_august['DIFF'] = (pd.to_numeric(data_august['DIFF'].str.replace(',',''), errors='coerce'))\n",
        "data_august = data_august[data_august['DIFF'] != 0]\n",
        "\n",
        "# Take a quick look at the resulting dataframe\n",
        "data_august.info()\n",
        "data_august.head()"
      ],
      "execution_count": null,
      "outputs": [
        {
          "output_type": "stream",
          "text": [
            "<class 'pandas.core.frame.DataFrame'>\n",
            "Int64Index: 330 entries, 0 to 377\n",
            "Data columns (total 7 columns):\n",
            " #   Column    Non-Null Count  Dtype \n",
            "---  ------    --------------  ----- \n",
            " 0   Park      330 non-null    object\n",
            " 1   AUG 2019  330 non-null    object\n",
            " 2   AUG 2020  330 non-null    object\n",
            " 3   DIFF      330 non-null    int64 \n",
            " 4   YTD 2019  330 non-null    object\n",
            " 5   YTD 2020  330 non-null    object\n",
            " 6   DIFF.1    330 non-null    object\n",
            "dtypes: int64(1), object(6)\n",
            "memory usage: 20.6+ KB\n"
          ],
          "name": "stdout"
        },
        {
          "output_type": "execute_result",
          "data": {
            "text/html": [
              "<div>\n",
              "<style scoped>\n",
              "    .dataframe tbody tr th:only-of-type {\n",
              "        vertical-align: middle;\n",
              "    }\n",
              "\n",
              "    .dataframe tbody tr th {\n",
              "        vertical-align: top;\n",
              "    }\n",
              "\n",
              "    .dataframe thead th {\n",
              "        text-align: right;\n",
              "    }\n",
              "</style>\n",
              "<table border=\"1\" class=\"dataframe\">\n",
              "  <thead>\n",
              "    <tr style=\"text-align: right;\">\n",
              "      <th></th>\n",
              "      <th>Park</th>\n",
              "      <th>AUG 2019</th>\n",
              "      <th>AUG 2020</th>\n",
              "      <th>DIFF</th>\n",
              "      <th>YTD 2019</th>\n",
              "      <th>YTD 2020</th>\n",
              "      <th>DIFF.1</th>\n",
              "    </tr>\n",
              "  </thead>\n",
              "  <tbody>\n",
              "    <tr>\n",
              "      <th>0</th>\n",
              "      <td>Abraham Lincoln Birthplace NHP</td>\n",
              "      <td>34,816</td>\n",
              "      <td>31,290</td>\n",
              "      <td>-3526</td>\n",
              "      <td>163,185</td>\n",
              "      <td>160,773</td>\n",
              "      <td>-2,412</td>\n",
              "    </tr>\n",
              "    <tr>\n",
              "      <th>1</th>\n",
              "      <td>Acadia NP</td>\n",
              "      <td>759,735</td>\n",
              "      <td>681,746</td>\n",
              "      <td>-77989</td>\n",
              "      <td>2,338,943</td>\n",
              "      <td>1,590,344</td>\n",
              "      <td>-748,599</td>\n",
              "    </tr>\n",
              "    <tr>\n",
              "      <th>2</th>\n",
              "      <td>Adams NHP</td>\n",
              "      <td>26,011</td>\n",
              "      <td>520</td>\n",
              "      <td>-25491</td>\n",
              "      <td>139,490</td>\n",
              "      <td>4,827</td>\n",
              "      <td>-134,663</td>\n",
              "    </tr>\n",
              "    <tr>\n",
              "      <th>3</th>\n",
              "      <td>African Burial Ground NM</td>\n",
              "      <td>4,332</td>\n",
              "      <td>0</td>\n",
              "      <td>-4332</td>\n",
              "      <td>28,039</td>\n",
              "      <td>6,900</td>\n",
              "      <td>-21,139</td>\n",
              "    </tr>\n",
              "    <tr>\n",
              "      <th>4</th>\n",
              "      <td>Agate Fossil Beds NM</td>\n",
              "      <td>2,775</td>\n",
              "      <td>1,686</td>\n",
              "      <td>-1089</td>\n",
              "      <td>13,347</td>\n",
              "      <td>5,813</td>\n",
              "      <td>-7,534</td>\n",
              "    </tr>\n",
              "  </tbody>\n",
              "</table>\n",
              "</div>"
            ],
            "text/plain": [
              "                             Park AUG 2019  ...   YTD 2020    DIFF.1\n",
              "0  Abraham Lincoln Birthplace NHP   34,816  ...    160,773    -2,412\n",
              "1                       Acadia NP  759,735  ...  1,590,344  -748,599\n",
              "2                       Adams NHP   26,011  ...      4,827  -134,663\n",
              "3        African Burial Ground NM    4,332  ...      6,900   -21,139\n",
              "4            Agate Fossil Beds NM    2,775  ...      5,813    -7,534\n",
              "\n",
              "[5 rows x 7 columns]"
            ]
          },
          "metadata": {
            "tags": []
          },
          "execution_count": 3
        }
      ]
    },
    {
      "cell_type": "code",
      "metadata": {
        "id": "o8MNxG0lESsC",
        "colab": {
          "base_uri": "https://localhost:8080/",
          "height": 445
        },
        "outputId": "a079d062-a4eb-437d-8140-fb3cb0bdecfe"
      },
      "source": [
        "# Load the february dataset and perform data cleanup as above\n",
        "data_february = pd.read_csv('https://raw.githubusercontent.com/jphil-16/Thinkful_Projects_JDP/main/NPS_Report_FEBRUARY2020.csv').dropna()\n",
        "data_february['DIFF'] = (pd.to_numeric(data_february['DIFF'].str.replace(',',''), errors='coerce'))\n",
        "data_february = data_february[data_february['DIFF'] != 0]\n",
        "\n",
        "# Take a quick look at the resulting dataframe\n",
        "data_february.info()\n",
        "data_february.head()"
      ],
      "execution_count": null,
      "outputs": [
        {
          "output_type": "stream",
          "text": [
            "<class 'pandas.core.frame.DataFrame'>\n",
            "Int64Index: 349 entries, 0 to 370\n",
            "Data columns (total 7 columns):\n",
            " #   Column    Non-Null Count  Dtype \n",
            "---  ------    --------------  ----- \n",
            " 0   Park      349 non-null    object\n",
            " 1   FEB 2019  349 non-null    object\n",
            " 2   FEB 2020  349 non-null    object\n",
            " 3   DIFF      349 non-null    int64 \n",
            " 4   YTD 2019  349 non-null    object\n",
            " 5   YTD 2020  349 non-null    object\n",
            " 6   DIFF.1    349 non-null    object\n",
            "dtypes: int64(1), object(6)\n",
            "memory usage: 21.8+ KB\n"
          ],
          "name": "stdout"
        },
        {
          "output_type": "execute_result",
          "data": {
            "text/html": [
              "<div>\n",
              "<style scoped>\n",
              "    .dataframe tbody tr th:only-of-type {\n",
              "        vertical-align: middle;\n",
              "    }\n",
              "\n",
              "    .dataframe tbody tr th {\n",
              "        vertical-align: top;\n",
              "    }\n",
              "\n",
              "    .dataframe thead th {\n",
              "        text-align: right;\n",
              "    }\n",
              "</style>\n",
              "<table border=\"1\" class=\"dataframe\">\n",
              "  <thead>\n",
              "    <tr style=\"text-align: right;\">\n",
              "      <th></th>\n",
              "      <th>Park</th>\n",
              "      <th>FEB 2019</th>\n",
              "      <th>FEB 2020</th>\n",
              "      <th>DIFF</th>\n",
              "      <th>YTD 2019</th>\n",
              "      <th>YTD 2020</th>\n",
              "      <th>DIFF.1</th>\n",
              "    </tr>\n",
              "  </thead>\n",
              "  <tbody>\n",
              "    <tr>\n",
              "      <th>0</th>\n",
              "      <td>Abraham Lincoln Birthplace NHP</td>\n",
              "      <td>6,534</td>\n",
              "      <td>7,406</td>\n",
              "      <td>872</td>\n",
              "      <td>8,473</td>\n",
              "      <td>14,317</td>\n",
              "      <td>5,844</td>\n",
              "    </tr>\n",
              "    <tr>\n",
              "      <th>1</th>\n",
              "      <td>Acadia NP</td>\n",
              "      <td>9,154</td>\n",
              "      <td>13,459</td>\n",
              "      <td>4305</td>\n",
              "      <td>17,686</td>\n",
              "      <td>26,099</td>\n",
              "      <td>8,413</td>\n",
              "    </tr>\n",
              "    <tr>\n",
              "      <th>2</th>\n",
              "      <td>Adams NHP</td>\n",
              "      <td>179</td>\n",
              "      <td>320</td>\n",
              "      <td>141</td>\n",
              "      <td>206</td>\n",
              "      <td>620</td>\n",
              "      <td>414</td>\n",
              "    </tr>\n",
              "    <tr>\n",
              "      <th>3</th>\n",
              "      <td>African Burial Ground NM</td>\n",
              "      <td>1,571</td>\n",
              "      <td>1,994</td>\n",
              "      <td>423</td>\n",
              "      <td>1,667</td>\n",
              "      <td>6,273</td>\n",
              "      <td>4,606</td>\n",
              "    </tr>\n",
              "    <tr>\n",
              "      <th>4</th>\n",
              "      <td>Agate Fossil Beds NM</td>\n",
              "      <td>94</td>\n",
              "      <td>194</td>\n",
              "      <td>100</td>\n",
              "      <td>94</td>\n",
              "      <td>301</td>\n",
              "      <td>207</td>\n",
              "    </tr>\n",
              "  </tbody>\n",
              "</table>\n",
              "</div>"
            ],
            "text/plain": [
              "                             Park FEB 2019 FEB 2020  ...  YTD 2019 YTD 2020 DIFF.1\n",
              "0  Abraham Lincoln Birthplace NHP    6,534    7,406  ...     8,473   14,317  5,844\n",
              "1                       Acadia NP    9,154   13,459  ...    17,686   26,099  8,413\n",
              "2                       Adams NHP      179      320  ...       206      620    414\n",
              "3        African Burial Ground NM    1,571    1,994  ...     1,667    6,273  4,606\n",
              "4            Agate Fossil Beds NM       94      194  ...        94      301    207\n",
              "\n",
              "[5 rows x 7 columns]"
            ]
          },
          "metadata": {
            "tags": []
          },
          "execution_count": 4
        }
      ]
    },
    {
      "cell_type": "markdown",
      "metadata": {
        "id": "uDVnpsBj2kqg"
      },
      "source": [
        "# **4. Methods**\n",
        "For this analysis, the data is already split up into three separate groups, and the variable of interest is already calculated. Since the sample size for each group is large enough (n = 330) the next step will be to check for normality. I will start by looking at a histogram."
      ]
    },
    {
      "cell_type": "code",
      "metadata": {
        "id": "85TzDflD2oAu",
        "colab": {
          "base_uri": "https://localhost:8080/",
          "height": 265
        },
        "outputId": "54156658-db77-48d0-a6c0-816cbcf53799"
      },
      "source": [
        "# Plot Histograms of each month to check for normality\n",
        "plt.hist(data_february['DIFF'], alpha = .5)\n",
        "plt.hist(data_april['DIFF'], alpha = .5)\n",
        "plt.hist(data_august['DIFF'], alpha = .5)\n",
        "plt.show()"
      ],
      "execution_count": null,
      "outputs": [
        {
          "output_type": "display_data",
          "data": {
            "image/png": "[encoded data removed]",
            "text/plain": [
              "<Figure size 432x288 with 1 Axes>"
            ]
          },
          "metadata": {
            "tags": [],
            "needs_background": "light"
          }
        }
      ]
    },
    {
      "cell_type": "markdown",
      "metadata": {
        "id": "4HNEUV1iE8H9"
      },
      "source": [
        "The histograms show that each group is heavily skewed. This makes sense as most parks have very little difference between their 2019 and 2020 visitation rates, but a few parks (though not an insignificant amount) had a much more extreme difference.\n",
        "\n",
        "In any case, I cannot proceed with a parametric test. Instead, I will use the Kruskal-Willis test to compare the three groups."
      ]
    },
    {
      "cell_type": "code",
      "metadata": {
        "id": "BnqXibA0CXLm",
        "colab": {
          "base_uri": "https://localhost:8080/"
        },
        "outputId": "166bd306-238a-4186-f016-751eb69dbee7"
      },
      "source": [
        "# Run the Kruskal-Wallis Test to handle the non-normal distribution\n",
        "print(stats.kruskal(data_february['DIFF'], data_april['DIFF'], data_august['DIFF']))"
      ],
      "execution_count": null,
      "outputs": [
        {
          "output_type": "stream",
          "text": [
            "KruskalResult(statistic=302.09186657889677, pvalue=2.521068572013671e-66)\n"
          ],
          "name": "stdout"
        }
      ]
    },
    {
      "cell_type": "markdown",
      "metadata": {
        "id": "YPfvvfi4GWwC"
      },
      "source": [
        "The results appear to be significant, so I will now break the test down into 3 sets of 2. This way the results will be more specific and we can determine if all 3 groups are different or if only 1 group is driving the results"
      ]
    },
    {
      "cell_type": "code",
      "metadata": {
        "id": "tEmMXtCLGVkz",
        "colab": {
          "base_uri": "https://localhost:8080/"
        },
        "outputId": "486d3f83-1604-4363-e436-941ed8f1e2e8"
      },
      "source": [
        "# Run the test in sets of 2 to get more granular results\n",
        "print(stats.kruskal(data_february['DIFF'], data_april['DIFF']))\n",
        "print(stats.kruskal(data_february['DIFF'], data_august['DIFF']))\n",
        "print(stats.kruskal(data_april['DIFF'], data_august['DIFF']))"
      ],
      "execution_count": null,
      "outputs": [
        {
          "output_type": "stream",
          "text": [
            "KruskalResult(statistic=284.17249221181487, pvalue=9.254678682280302e-64)\n",
            "KruskalResult(statistic=148.37832318040032, pvalue=3.921318754893491e-34)\n",
            "KruskalResult(statistic=16.703987348939904, pvalue=4.368907670524964e-05)\n"
          ],
          "name": "stdout"
        }
      ]
    },
    {
      "cell_type": "markdown",
      "metadata": {
        "id": "EpfzUmquGyHD"
      },
      "source": [
        "These results give a more more complete picture about the differences between each particular group. In order to truly understand where each group is centered, let's look at the mean of each group to see whether the 2020 visitation rates were going up or down. This will provide context to the results of our Kruskal-Willis test."
      ]
    },
    {
      "cell_type": "code",
      "metadata": {
        "id": "ARMWHtnrGyOY",
        "colab": {
          "base_uri": "https://localhost:8080/"
        },
        "outputId": "3ec1937d-9788-4312-e3e8-a6980858c93f"
      },
      "source": [
        "# Comparing the average change in visitation rate for each month\n",
        "# While the above results tell us the months were different, we still need to know how they were different\n",
        "print('The average change in February visitors was {} from 2019 to 2020'.format(round(data_february['DIFF'].median(),1)))\n",
        "print('The average change in April visitors was {} from 2019 to 2020'.format(round(data_april['DIFF'].median(),1)))\n",
        "print('The average change in August visitors was {} from 2019 to 2020'.format(round(data_august['DIFF'].median(),1)))"
      ],
      "execution_count": null,
      "outputs": [
        {
          "output_type": "stream",
          "text": [
            "The average change in February visitors was 605.0 from 2019 to 2020\n",
            "The average change in April visitors was -6842.5 from 2019 to 2020\n",
            "The average change in August visitors was -3095.0 from 2019 to 2020\n"
          ],
          "name": "stdout"
        }
      ]
    },
    {
      "cell_type": "markdown",
      "metadata": {
        "id": "SS3_IOSJ2oKo"
      },
      "source": [
        "# **5. Results**\n",
        "Looking at the results of the Kruskal-Wallis test, we can conclude that visitation rates in the National Parks had a statistically significant difference between February, April, and August. In February, the parks had a slightly higher number of visitors compared to 2019. In April, the numbers dropped off dramatically as everyone stayed indoors at the onset of the pandemic in the United States. By August, things were opening back up, but visitation rates were still very far below the 2019 levels."
      ]
    },
    {
      "cell_type": "markdown",
      "metadata": {
        "id": "WcLaq81t2sc0"
      },
      "source": [
        "# **6. Discussion and Recommendation**\n",
        "Based on these results, we can conclude that the National Parks have seen similar behavior when compared to other types of destinations in the United States. COVID-19 has made a significant impact on the amount of people visiting the parks this year, and while the most drastic differences were back in spring, there was still a very real lingering effect as summer progressed and the COVID impact did not disappear.\n",
        "\n",
        "This is very good information for the people in charge of the National Parks. They can take these results and staff the parks to match these visitation rates, knowing that the number of guests is less than normal, but there are still enough guests to warrant the majority of the staff sticking around.\n",
        "\n",
        "To continue this research and provide even better results, my next steps would be to analyze the complete 2020 data instead of focusing on these 3 particular months. I would also like to break down the analysis by park size, since a very large park like Yellowstone might be seeing a different effect compared to a park that usually only sees a few hundred guests during a normal month.\n",
        "\n",
        "Other lurking variables that could be introducing bias are the overall weather for the year (maybe 2020 has had a lot of bad weather that would have kept people inside anyways) or even the specific states that the parks are in (the general public in Wyoming might be behaving differently compared to the general public in California)."
      ]
    }
  ]
}